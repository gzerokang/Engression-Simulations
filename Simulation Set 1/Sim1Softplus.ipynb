{
 "cells": [
  {
   "cell_type": "markdown",
   "metadata": {},
   "source": [
    "## Softplus\n",
    "### Engression"
   ]
  },
  {
   "cell_type": "code",
   "execution_count": null,
   "metadata": {},
   "outputs": [],
   "source": [
    "from EngressionSim1 import *"
   ]
  },
  {
   "cell_type": "code",
   "execution_count": null,
   "metadata": {},
   "outputs": [],
   "source": [
    "## example 1: Gaussian noise\n",
    "\n",
    "\n",
    "N_sim = 20\n",
    "x_min = -0.55\n",
    "x_max = 1.64\n",
    "x_lower = -0.55\n",
    "x_upper = 0.55 \n",
    "true_function = \"softplus\"\n",
    "noise_dist = \"gaussian\"\n",
    "noise_correlation = -0.3\n",
    "num_epochs = 200\n",
    "n_train=100000\n",
    "num_points = 10000\n",
    "noise_std = 1\n",
    "lr = 0.005\n",
    "batch_size=5000\n",
    "device = torch.device(\"cuda\" if torch.cuda.is_available() else \"cpu\")\n",
    "\n",
    "# Run simulations with the specified parameters\n",
    "results1 = run_engression_simulations(\n",
    "    N_sim=N_sim, x_min=x_min, x_max=x_max,\n",
    "    x_lower=x_lower,x_upper=x_upper,\n",
    "    true_function=true_function,\n",
    "    n_train=n_train,\n",
    "    noise_dist=noise_dist,\n",
    "    noise_corr=noise_correlation,\n",
    "    num_epochs=num_epochs,\n",
    "    num_points=num_points,\n",
    "    noise_std = noise_std,\n",
    "    batch_size = batch_size,\n",
    "    device=device,lr=lr\n",
    ")\n"
   ]
  },
  {
   "cell_type": "code",
   "execution_count": null,
   "metadata": {},
   "outputs": [],
   "source": [
    "## example 2: Uniform noise\n",
    "\n",
    "N_sim = 20\n",
    "x_min = -0.55\n",
    "x_max = 1.64\n",
    "x_lower = -0.55\n",
    "x_upper = 0.55 \n",
    "true_function = \"softplus\"\n",
    "noise_dist = \"uniform\"\n",
    "noise_correlation = -0.3\n",
    "num_epochs = 200\n",
    "n_train=100000\n",
    "num_points = 10000\n",
    "noise_std = 1\n",
    "lr = 0.005\n",
    "batch_size=5000\n",
    "device = torch.device(\"cuda\" if torch.cuda.is_available() else \"cpu\")\n",
    "\n",
    "\n",
    "\n",
    "# Run simulations with the specified parameters\n",
    "results2 = run_engression_simulations(\n",
    "    N_sim=N_sim, x_min=x_min, x_max=x_max,\n",
    "    x_lower=x_lower,x_upper=x_upper,\n",
    "    true_function=true_function,\n",
    "    n_train=n_train,\n",
    "    noise_dist=noise_dist,\n",
    "    noise_corr=noise_correlation,\n",
    "    num_epochs=num_epochs,\n",
    "    num_points=num_points,\n",
    "    noise_std = noise_std,\n",
    "    batch_size = batch_size,\n",
    "    device=device,lr=lr\n",
    ")\n"
   ]
  },
  {
   "cell_type": "markdown",
   "metadata": {},
   "source": [
    "### L2 Regression"
   ]
  },
  {
   "cell_type": "code",
   "execution_count": null,
   "metadata": {},
   "outputs": [],
   "source": [
    "from RegressionL2Sim1 import *"
   ]
  },
  {
   "cell_type": "code",
   "execution_count": null,
   "metadata": {},
   "outputs": [],
   "source": [
    "## example 1: Gaussian noise\n",
    "\n",
    "\n",
    "N_sim = 20\n",
    "x_min = -0.55\n",
    "x_max = 1.64\n",
    "x_lower = -0.55\n",
    "x_upper = 0.55 \n",
    "true_function = \"softplus\"\n",
    "noise_dist = \"gaussian\"\n",
    "noise_correlation = -0.3\n",
    "num_epochs = 200\n",
    "n_train=100000\n",
    "num_points = 10000\n",
    "noise_std = 1\n",
    "lr = 0.005\n",
    "batch_size=5000\n",
    "device = torch.device(\"cuda\" if torch.cuda.is_available() else \"cpu\")\n",
    "\n",
    "# Run simulations with the specified parameters\n",
    "results1_L2 = run_compare_simulations(\n",
    "    N_sim=N_sim, x_min=x_min, x_max=x_max,\n",
    "    x_lower=x_lower,x_upper=x_upper,\n",
    "    true_function=true_function,\n",
    "    n_train=n_train,\n",
    "    noise_dist=noise_dist,\n",
    "    noise_corr=noise_correlation,\n",
    "    num_epochs=num_epochs,\n",
    "    num_points=num_points,\n",
    "    noise_std = noise_std,\n",
    "    batch_size = batch_size,\n",
    "    device=device,lr=lr\n",
    ")\n"
   ]
  },
  {
   "cell_type": "code",
   "execution_count": null,
   "metadata": {},
   "outputs": [],
   "source": [
    "## example 2: Uniform noise\n",
    "\n",
    "\n",
    "N_sim = 20\n",
    "x_min = -0.55\n",
    "x_max = 1.64\n",
    "x_lower = -0.55\n",
    "x_upper = 0.55 \n",
    "true_function = \"softplus\"\n",
    "noise_dist = \"uniform\"\n",
    "noise_correlation = -0.3\n",
    "num_epochs = 200\n",
    "n_train=100000\n",
    "num_points = 10000\n",
    "noise_std = 1\n",
    "lr = 0.005\n",
    "batch_size=5000\n",
    "device = torch.device(\"cuda\" if torch.cuda.is_available() else \"cpu\")\n",
    "\n",
    "# Run simulations with the specified parameters\n",
    "results2_L2 = run_compare_simulations(\n",
    "    N_sim=N_sim, x_min=x_min, x_max=x_max,\n",
    "    x_lower=x_lower,x_upper=x_upper,\n",
    "    true_function=true_function,\n",
    "    n_train=n_train,\n",
    "    noise_dist=noise_dist,\n",
    "    noise_corr=noise_correlation,\n",
    "    num_epochs=num_epochs,\n",
    "    num_points=num_points,\n",
    "    noise_std = noise_std,\n",
    "    batch_size = batch_size,\n",
    "    device=device,lr=lr\n",
    ")\n"
   ]
  },
  {
   "cell_type": "code",
   "execution_count": null,
   "metadata": {},
   "outputs": [],
   "source": [
    "## np.savez(\"simresults_softplus.npz\", results1=results1, results2=results2)\n",
    "## np.savez(\"simresults_softplus_L2.npz\", results1=results1_L2, results2=results2_L2)"
   ]
  }
 ],
 "metadata": {
  "kernelspec": {
   "display_name": ".conda",
   "language": "python",
   "name": "python3"
  },
  "language_info": {
   "codemirror_mode": {
    "name": "ipython",
    "version": 3
   },
   "file_extension": ".py",
   "mimetype": "text/x-python",
   "name": "python",
   "nbconvert_exporter": "python",
   "pygments_lexer": "ipython3",
   "version": "3.11.9"
  }
 },
 "nbformat": 4,
 "nbformat_minor": 2
}
